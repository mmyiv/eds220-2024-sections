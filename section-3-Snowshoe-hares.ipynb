{
 "cells": [
  {
   "cell_type": "markdown",
   "id": "13820afb-cbf3-4e29-bcd1-aa2e347a520f",
   "metadata": {},
   "source": [
    "# Snowshoe hares at Bonanza Creek Experimental Forest\n",
    "\n",
    "Date: 10/16/2024\n",
    "\n",
    "[Link to website](https://meds-eds-220.github.io/MEDS-eds-220-course/discussion-sections/ds3-hares.html)"
   ]
  },
  {
   "cell_type": "code",
   "execution_count": null,
   "id": "14771b4a-71dc-4c91-88c1-393932d9a1bf",
   "metadata": {},
   "outputs": [],
   "source": [
    "## Setup\n",
    "\n"
   ]
  }
 ],
 "metadata": {
  "kernelspec": {
   "display_name": "Anaconda 3 (Base)",
   "language": "python",
   "name": "base"
  },
  "language_info": {
   "codemirror_mode": {
    "name": "ipython",
    "version": 3
   },
   "file_extension": ".py",
   "mimetype": "text/x-python",
   "name": "python",
   "nbconvert_exporter": "python",
   "pygments_lexer": "ipython3",
   "version": "3.9.13"
  }
 },
 "nbformat": 4,
 "nbformat_minor": 5
}
