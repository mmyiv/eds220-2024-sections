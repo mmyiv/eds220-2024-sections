{
 "cells": [
  {
   "cell_type": "markdown",
   "id": "1cd70288-75ac-4ca9-8fed-c59070f63a4e",
   "metadata": {},
   "source": [
    "## Data loading and exploration"
   ]
  },
  {
   "cell_type": "code",
   "execution_count": 1,
   "id": "b11bd74f-ff08-4eed-a589-f24eb746dd42",
   "metadata": {
    "tags": []
   },
   "outputs": [],
   "source": [
    "# Load libraries\n",
    "import os\n",
    "import pandas as pd\n",
    "import matplotlib.pyplot as plt\n",
    "import geopandas as gpd"
   ]
  },
  {
   "cell_type": "code",
   "execution_count": 3,
   "id": "614546d4-253c-45f0-b358-c7ee9f361357",
   "metadata": {
    "tags": []
   },
   "outputs": [
    {
     "data": {
      "text/html": [
       "<div>\n",
       "<style scoped>\n",
       "    .dataframe tbody tr th:only-of-type {\n",
       "        vertical-align: middle;\n",
       "    }\n",
       "\n",
       "    .dataframe tbody tr th {\n",
       "        vertical-align: top;\n",
       "    }\n",
       "\n",
       "    .dataframe thead th {\n",
       "        text-align: right;\n",
       "    }\n",
       "</style>\n",
       "<table border=\"1\" class=\"dataframe\">\n",
       "  <thead>\n",
       "    <tr style=\"text-align: right;\">\n",
       "      <th></th>\n",
       "      <th>admin</th>\n",
       "      <th>country</th>\n",
       "      <th>n_communities</th>\n",
       "      <th>geometry</th>\n",
       "    </tr>\n",
       "  </thead>\n",
       "  <tbody>\n",
       "    <tr>\n",
       "      <th>0</th>\n",
       "      <td>United States of America</td>\n",
       "      <td>US</td>\n",
       "      <td>115</td>\n",
       "      <td>MULTIPOLYGON (((-132.74687 56.52568, -132.7576...</td>\n",
       "    </tr>\n",
       "    <tr>\n",
       "      <th>1</th>\n",
       "      <td>United Kingdom</td>\n",
       "      <td>GB</td>\n",
       "      <td>96</td>\n",
       "      <td>MULTIPOLYGON (((-2.66768 51.62300, -2.74214 51...</td>\n",
       "    </tr>\n",
       "    <tr>\n",
       "      <th>2</th>\n",
       "      <td>Sweden</td>\n",
       "      <td>SE</td>\n",
       "      <td>133</td>\n",
       "      <td>MULTIPOLYGON (((19.07646 57.83594, 18.99375 57...</td>\n",
       "    </tr>\n",
       "    <tr>\n",
       "      <th>3</th>\n",
       "      <td>Russia</td>\n",
       "      <td>RU</td>\n",
       "      <td>774</td>\n",
       "      <td>MULTIPOLYGON (((145.88154 43.45952, 145.89561 ...</td>\n",
       "    </tr>\n",
       "    <tr>\n",
       "      <th>4</th>\n",
       "      <td>Norway</td>\n",
       "      <td>NO</td>\n",
       "      <td>48</td>\n",
       "      <td>MULTIPOLYGON (((20.62217 69.03687, 20.49199 69...</td>\n",
       "    </tr>\n",
       "  </tbody>\n",
       "</table>\n",
       "</div>"
      ],
      "text/plain": [
       "                      admin country  n_communities  \\\n",
       "0  United States of America      US            115   \n",
       "1            United Kingdom      GB             96   \n",
       "2                    Sweden      SE            133   \n",
       "3                    Russia      RU            774   \n",
       "4                    Norway      NO             48   \n",
       "\n",
       "                                            geometry  \n",
       "0  MULTIPOLYGON (((-132.74687 56.52568, -132.7576...  \n",
       "1  MULTIPOLYGON (((-2.66768 51.62300, -2.74214 51...  \n",
       "2  MULTIPOLYGON (((19.07646 57.83594, 18.99375 57...  \n",
       "3  MULTIPOLYGON (((145.88154 43.45952, 145.89561 ...  \n",
       "4  MULTIPOLYGON (((20.62217 69.03687, 20.49199 69...  "
      ]
     },
     "execution_count": 3,
     "metadata": {},
     "output_type": "execute_result"
    }
   ],
   "source": [
    "# Path to course data folder\n",
    "data_folder_fp = os.path.join('/',\n",
    "                              'courses',\n",
    "                              'EDS220', \n",
    "                              'data')\n",
    "\n",
    "# Make file path to data\n",
    "fp = os.path.join(data_folder_fp, \n",
    "                  'arctic_communities.geojson')\n",
    "df = gpd.read_file(fp)\n",
    "\n",
    "# View changes\n",
    "df.head()"
   ]
  },
  {
   "cell_type": "markdown",
   "id": "77467dd8-3649-45fe-8e22-193e0fedeb79",
   "metadata": {},
   "source": [
    "## Check geometry types"
   ]
  },
  {
   "cell_type": "code",
   "execution_count": 6,
   "id": "5d9a212b-7c31-42e2-9ce8-c87f28c7414b",
   "metadata": {
    "tags": []
   },
   "outputs": [
    {
     "data": {
      "text/plain": [
       "0     MultiPolygon\n",
       "1     MultiPolygon\n",
       "2     MultiPolygon\n",
       "3     MultiPolygon\n",
       "4     MultiPolygon\n",
       "5     MultiPolygon\n",
       "6          Polygon\n",
       "7          Polygon\n",
       "8     MultiPolygon\n",
       "9     MultiPolygon\n",
       "10    MultiPolygon\n",
       "11    MultiPolygon\n",
       "12    MultiPolygon\n",
       "13    MultiPolygon\n",
       "14         Polygon\n",
       "dtype: object"
      ]
     },
     "execution_count": 6,
     "metadata": {},
     "output_type": "execute_result"
    }
   ],
   "source": [
    "# Check geometry type of columns\n",
    "df.geom_type"
   ]
  },
  {
   "cell_type": "code",
   "execution_count": 32,
   "id": "3f233a30-ebf8-4d94-9945-2a7992bbc3fa",
   "metadata": {
    "tags": []
   },
   "outputs": [
    {
     "name": "stdout",
     "output_type": "stream",
     "text": [
      "Multiple feature types: ['MultiPolygon' 'Polygon']\n"
     ]
    }
   ],
   "source": [
    "if (df.geom_type == 'polygon').all():\n",
    "    print('All geometryies are Polygons')\n",
    "else:\n",
    "    print(f\"Multiple feature types: {df.geom_type.unique()}\")"
   ]
  },
  {
   "cell_type": "code",
   "execution_count": 33,
   "id": "3f322dd9-6ad5-41cb-a88b-48be44db21c2",
   "metadata": {
    "tags": []
   },
   "outputs": [],
   "source": [
    "def check_polygons(geodf):\n",
    "    \"\"\"\n",
    "    Checking the geometry of each column in a GeoDataFrame\n",
    "    Args: Geodf: the geodataframe\n",
    "    Returns: Str: Polygon types\n",
    "    \"\"\"\n",
    "    if (geodf.geom_type == 'Polygon').all():\n",
    "        return('All geometryies are polygons')\n",
    "    else:\n",
    "        return(f\"Multiple feature types: {geodf.geom_type.unique()}\")"
   ]
  },
  {
   "cell_type": "code",
   "execution_count": 34,
   "id": "a137d91e-b0f4-4c3d-adf4-1200184c13a2",
   "metadata": {
    "tags": []
   },
   "outputs": [
    {
     "data": {
      "text/plain": [
       "\"Multiple feature types: ['MultiPolygon' 'Polygon']\""
      ]
     },
     "execution_count": 34,
     "metadata": {},
     "output_type": "execute_result"
    }
   ],
   "source": [
    "check_polygons(df)"
   ]
  },
  {
   "cell_type": "markdown",
   "id": "e61ed107-f54e-4a64-ac64-f993bd7ec5f7",
   "metadata": {},
   "source": [
    "## Explode polygons"
   ]
  },
  {
   "cell_type": "code",
   "execution_count": 37,
   "id": "9022cce0-bde2-4e71-aa51-bd03882f7188",
   "metadata": {
    "tags": []
   },
   "outputs": [
    {
     "ename": "ValueError",
     "evalue": "cannot insert level_0, already exists",
     "output_type": "error",
     "traceback": [
      "\u001b[0;31m---------------------------------------------------------------------------\u001b[0m",
      "\u001b[0;31mValueError\u001b[0m                                Traceback (most recent call last)",
      "\u001b[0;32m/tmp/ipykernel_1682963/179629883.py\u001b[0m in \u001b[0;36m?\u001b[0;34m()\u001b[0m\n\u001b[0;32m----> 1\u001b[0;31m \u001b[0mdf\u001b[0m \u001b[0;34m=\u001b[0m \u001b[0mdf\u001b[0m\u001b[0;34m.\u001b[0m\u001b[0mexplode\u001b[0m\u001b[0;34m(\u001b[0m\u001b[0mindex_parts\u001b[0m \u001b[0;34m=\u001b[0m \u001b[0;32mFalse\u001b[0m\u001b[0;34m)\u001b[0m\u001b[0;34m.\u001b[0m\u001b[0mreset_index\u001b[0m\u001b[0;34m(\u001b[0m\u001b[0;34m)\u001b[0m\u001b[0;34m\u001b[0m\u001b[0;34m\u001b[0m\u001b[0m\n\u001b[0m\u001b[1;32m      2\u001b[0m \u001b[0;34m\u001b[0m\u001b[0m\n\u001b[1;32m      3\u001b[0m \u001b[0;31m# Check\u001b[0m\u001b[0;34m\u001b[0m\u001b[0;34m\u001b[0m\u001b[0m\n\u001b[1;32m      4\u001b[0m \u001b[0mcheck_polygons\u001b[0m\u001b[0;34m(\u001b[0m\u001b[0mdf\u001b[0m\u001b[0;34m)\u001b[0m\u001b[0;34m\u001b[0m\u001b[0;34m\u001b[0m\u001b[0m\n",
      "\u001b[0;32m/opt/anaconda3/envs/eds220-env/lib/python3.11/site-packages/pandas/core/frame.py\u001b[0m in \u001b[0;36m?\u001b[0;34m(self, level, drop, inplace, col_level, col_fill, allow_duplicates, names)\u001b[0m\n\u001b[1;32m   6468\u001b[0m                     level_values = algorithms.take(\n\u001b[1;32m   6469\u001b[0m                         \u001b[0mlevel_values\u001b[0m\u001b[0;34m,\u001b[0m \u001b[0mlab\u001b[0m\u001b[0;34m,\u001b[0m \u001b[0mallow_fill\u001b[0m\u001b[0;34m=\u001b[0m\u001b[0;32mTrue\u001b[0m\u001b[0;34m,\u001b[0m \u001b[0mfill_value\u001b[0m\u001b[0;34m=\u001b[0m\u001b[0mlev\u001b[0m\u001b[0;34m.\u001b[0m\u001b[0m_na_value\u001b[0m\u001b[0;34m\u001b[0m\u001b[0;34m\u001b[0m\u001b[0m\n\u001b[1;32m   6470\u001b[0m                     )\n\u001b[1;32m   6471\u001b[0m \u001b[0;34m\u001b[0m\u001b[0m\n\u001b[0;32m-> 6472\u001b[0;31m                 new_obj.insert(\n\u001b[0m\u001b[1;32m   6473\u001b[0m                     \u001b[0;36m0\u001b[0m\u001b[0;34m,\u001b[0m\u001b[0;34m\u001b[0m\u001b[0;34m\u001b[0m\u001b[0m\n\u001b[1;32m   6474\u001b[0m                     \u001b[0mname\u001b[0m\u001b[0;34m,\u001b[0m\u001b[0;34m\u001b[0m\u001b[0;34m\u001b[0m\u001b[0m\n\u001b[1;32m   6475\u001b[0m                     \u001b[0mlevel_values\u001b[0m\u001b[0;34m,\u001b[0m\u001b[0;34m\u001b[0m\u001b[0;34m\u001b[0m\u001b[0m\n",
      "\u001b[0;32m/opt/anaconda3/envs/eds220-env/lib/python3.11/site-packages/pandas/core/frame.py\u001b[0m in \u001b[0;36m?\u001b[0;34m(self, loc, column, value, allow_duplicates)\u001b[0m\n\u001b[1;32m   5154\u001b[0m                 \u001b[0;34m\"'self.flags.allows_duplicate_labels' is False.\"\u001b[0m\u001b[0;34m\u001b[0m\u001b[0;34m\u001b[0m\u001b[0m\n\u001b[1;32m   5155\u001b[0m             )\n\u001b[1;32m   5156\u001b[0m         \u001b[0;32mif\u001b[0m \u001b[0;32mnot\u001b[0m \u001b[0mallow_duplicates\u001b[0m \u001b[0;32mand\u001b[0m \u001b[0mcolumn\u001b[0m \u001b[0;32min\u001b[0m \u001b[0mself\u001b[0m\u001b[0;34m.\u001b[0m\u001b[0mcolumns\u001b[0m\u001b[0;34m:\u001b[0m\u001b[0;34m\u001b[0m\u001b[0;34m\u001b[0m\u001b[0m\n\u001b[1;32m   5157\u001b[0m             \u001b[0;31m# Should this be a different kind of error??\u001b[0m\u001b[0;34m\u001b[0m\u001b[0;34m\u001b[0m\u001b[0m\n\u001b[0;32m-> 5158\u001b[0;31m             \u001b[0;32mraise\u001b[0m \u001b[0mValueError\u001b[0m\u001b[0;34m(\u001b[0m\u001b[0;34mf\"cannot insert {column}, already exists\"\u001b[0m\u001b[0;34m)\u001b[0m\u001b[0;34m\u001b[0m\u001b[0;34m\u001b[0m\u001b[0m\n\u001b[0m\u001b[1;32m   5159\u001b[0m         \u001b[0;32mif\u001b[0m \u001b[0;32mnot\u001b[0m \u001b[0mis_integer\u001b[0m\u001b[0;34m(\u001b[0m\u001b[0mloc\u001b[0m\u001b[0;34m)\u001b[0m\u001b[0;34m:\u001b[0m\u001b[0;34m\u001b[0m\u001b[0;34m\u001b[0m\u001b[0m\n\u001b[1;32m   5160\u001b[0m             \u001b[0;32mraise\u001b[0m \u001b[0mTypeError\u001b[0m\u001b[0;34m(\u001b[0m\u001b[0;34m\"loc must be int\"\u001b[0m\u001b[0;34m)\u001b[0m\u001b[0;34m\u001b[0m\u001b[0;34m\u001b[0m\u001b[0m\n\u001b[1;32m   5161\u001b[0m         \u001b[0;31m# convert non stdlib ints to satisfy typing checks\u001b[0m\u001b[0;34m\u001b[0m\u001b[0;34m\u001b[0m\u001b[0m\n",
      "\u001b[0;31mValueError\u001b[0m: cannot insert level_0, already exists"
     ]
    }
   ],
   "source": [
    "df = df.explode(index_parts = False).reset_index()\n",
    "\n",
    "# Check\n",
    "check_polygons(df)"
   ]
  },
  {
   "cell_type": "markdown",
   "id": "134baf3e-9007-4d98-969d-0ad0bdddff00",
   "metadata": {},
   "source": [
    "## Compute minimum y-coordinate for polygons"
   ]
  },
  {
   "cell_type": "code",
   "execution_count": 43,
   "id": "bed39cf9-872e-4532-8c00-51e6a0db794c",
   "metadata": {
    "tags": []
   },
   "outputs": [
    {
     "data": {
      "text/plain": [
       "0    56.511035\n",
       "Name: miny, dtype: float64"
      ]
     },
     "execution_count": 43,
     "metadata": {},
     "output_type": "execute_result"
    }
   ],
   "source": [
    "# Select first row\n",
    "df.iloc[[0]] # makes it a df\n",
    "\n",
    "# Select geom\n",
    "type(df.iloc[[0]])\n",
    "\n",
    "# Select geom\n",
    "df.iloc[[0]]['geometry']\n",
    "\n",
    "# Check geom type\n",
    "type(df.iloc[[0]]['geometry'])\n",
    "\n",
    "# Use bounds\n",
    "df.iloc[[0]]['geometry'].bounds['miny']"
   ]
  },
  {
   "cell_type": "code",
   "execution_count": 46,
   "id": "e6a334dd-8374-4478-aa35-7c8fadfe0852",
   "metadata": {
    "tags": []
   },
   "outputs": [
    {
     "data": {
      "text/html": [
       "<div>\n",
       "<style scoped>\n",
       "    .dataframe tbody tr th:only-of-type {\n",
       "        vertical-align: middle;\n",
       "    }\n",
       "\n",
       "    .dataframe tbody tr th {\n",
       "        vertical-align: top;\n",
       "    }\n",
       "\n",
       "    .dataframe thead th {\n",
       "        text-align: right;\n",
       "    }\n",
       "</style>\n",
       "<table border=\"1\" class=\"dataframe\">\n",
       "  <thead>\n",
       "    <tr style=\"text-align: right;\">\n",
       "      <th></th>\n",
       "      <th>level_0</th>\n",
       "      <th>index</th>\n",
       "      <th>admin</th>\n",
       "      <th>country</th>\n",
       "      <th>n_communities</th>\n",
       "      <th>geometry</th>\n",
       "      <th>miny</th>\n",
       "    </tr>\n",
       "  </thead>\n",
       "  <tbody>\n",
       "    <tr>\n",
       "      <th>0</th>\n",
       "      <td>0</td>\n",
       "      <td>0</td>\n",
       "      <td>United States of America</td>\n",
       "      <td>US</td>\n",
       "      <td>115</td>\n",
       "      <td>POLYGON ((-132.74687 56.52568, -132.75762 56.5...</td>\n",
       "      <td>56.511035</td>\n",
       "    </tr>\n",
       "    <tr>\n",
       "      <th>1</th>\n",
       "      <td>1</td>\n",
       "      <td>0</td>\n",
       "      <td>United States of America</td>\n",
       "      <td>US</td>\n",
       "      <td>115</td>\n",
       "      <td>POLYGON ((-132.77988 56.24727, -132.83096 56.2...</td>\n",
       "      <td>56.244141</td>\n",
       "    </tr>\n",
       "    <tr>\n",
       "      <th>2</th>\n",
       "      <td>2</td>\n",
       "      <td>0</td>\n",
       "      <td>United States of America</td>\n",
       "      <td>US</td>\n",
       "      <td>115</td>\n",
       "      <td>POLYGON ((-134.31274 58.22891, -134.31987 58.2...</td>\n",
       "      <td>58.204102</td>\n",
       "    </tr>\n",
       "    <tr>\n",
       "      <th>3</th>\n",
       "      <td>3</td>\n",
       "      <td>0</td>\n",
       "      <td>United States of America</td>\n",
       "      <td>US</td>\n",
       "      <td>115</td>\n",
       "      <td>POLYGON ((-145.11851 60.33711, -145.15049 60.3...</td>\n",
       "      <td>60.312646</td>\n",
       "    </tr>\n",
       "    <tr>\n",
       "      <th>4</th>\n",
       "      <td>4</td>\n",
       "      <td>0</td>\n",
       "      <td>United States of America</td>\n",
       "      <td>US</td>\n",
       "      <td>115</td>\n",
       "      <td>POLYGON ((-144.56563 59.81841, -144.61357 59.8...</td>\n",
       "      <td>59.812646</td>\n",
       "    </tr>\n",
       "    <tr>\n",
       "      <th>...</th>\n",
       "      <td>...</td>\n",
       "      <td>...</td>\n",
       "      <td>...</td>\n",
       "      <td>...</td>\n",
       "      <td>...</td>\n",
       "      <td>...</td>\n",
       "      <td>...</td>\n",
       "    </tr>\n",
       "    <tr>\n",
       "      <th>476</th>\n",
       "      <td>476</td>\n",
       "      <td>13</td>\n",
       "      <td>Canada</td>\n",
       "      <td>CA</td>\n",
       "      <td>7</td>\n",
       "      <td>POLYGON ((-109.16641 67.98237, -109.05391 67.9...</td>\n",
       "      <td>67.878809</td>\n",
       "    </tr>\n",
       "    <tr>\n",
       "      <th>477</th>\n",
       "      <td>477</td>\n",
       "      <td>13</td>\n",
       "      <td>Canada</td>\n",
       "      <td>CA</td>\n",
       "      <td>7</td>\n",
       "      <td>POLYGON ((-108.09272 67.00518, -107.96646 66.9...</td>\n",
       "      <td>66.857812</td>\n",
       "    </tr>\n",
       "    <tr>\n",
       "      <th>478</th>\n",
       "      <td>478</td>\n",
       "      <td>13</td>\n",
       "      <td>Canada</td>\n",
       "      <td>CA</td>\n",
       "      <td>7</td>\n",
       "      <td>POLYGON ((-109.32314 67.99087, -109.36084 67.9...</td>\n",
       "      <td>67.987598</td>\n",
       "    </tr>\n",
       "    <tr>\n",
       "      <th>479</th>\n",
       "      <td>479</td>\n",
       "      <td>13</td>\n",
       "      <td>Canada</td>\n",
       "      <td>CA</td>\n",
       "      <td>7</td>\n",
       "      <td>POLYGON ((-139.04312 69.57690, -139.12573 69.5...</td>\n",
       "      <td>69.539307</td>\n",
       "    </tr>\n",
       "    <tr>\n",
       "      <th>480</th>\n",
       "      <td>480</td>\n",
       "      <td>14</td>\n",
       "      <td>Belarus</td>\n",
       "      <td>BY</td>\n",
       "      <td>8</td>\n",
       "      <td>POLYGON ((31.76338 52.10107, 31.57373 52.10811...</td>\n",
       "      <td>51.265039</td>\n",
       "    </tr>\n",
       "  </tbody>\n",
       "</table>\n",
       "<p>481 rows × 7 columns</p>\n",
       "</div>"
      ],
      "text/plain": [
       "     level_0  index                     admin country  n_communities  \\\n",
       "0          0      0  United States of America      US            115   \n",
       "1          1      0  United States of America      US            115   \n",
       "2          2      0  United States of America      US            115   \n",
       "3          3      0  United States of America      US            115   \n",
       "4          4      0  United States of America      US            115   \n",
       "..       ...    ...                       ...     ...            ...   \n",
       "476      476     13                    Canada      CA              7   \n",
       "477      477     13                    Canada      CA              7   \n",
       "478      478     13                    Canada      CA              7   \n",
       "479      479     13                    Canada      CA              7   \n",
       "480      480     14                   Belarus      BY              8   \n",
       "\n",
       "                                              geometry       miny  \n",
       "0    POLYGON ((-132.74687 56.52568, -132.75762 56.5...  56.511035  \n",
       "1    POLYGON ((-132.77988 56.24727, -132.83096 56.2...  56.244141  \n",
       "2    POLYGON ((-134.31274 58.22891, -134.31987 58.2...  58.204102  \n",
       "3    POLYGON ((-145.11851 60.33711, -145.15049 60.3...  60.312646  \n",
       "4    POLYGON ((-144.56563 59.81841, -144.61357 59.8...  59.812646  \n",
       "..                                                 ...        ...  \n",
       "476  POLYGON ((-109.16641 67.98237, -109.05391 67.9...  67.878809  \n",
       "477  POLYGON ((-108.09272 67.00518, -107.96646 66.9...  66.857812  \n",
       "478  POLYGON ((-109.32314 67.99087, -109.36084 67.9...  67.987598  \n",
       "479  POLYGON ((-139.04312 69.57690, -139.12573 69.5...  69.539307  \n",
       "480  POLYGON ((31.76338 52.10107, 31.57373 52.10811...  51.265039  \n",
       "\n",
       "[481 rows x 7 columns]"
      ]
     },
     "execution_count": 46,
     "metadata": {},
     "output_type": "execute_result"
    }
   ],
   "source": [
    "# Make function miny\n",
    "def min_y(geodf_row):\n",
    "    return geodf_row.geometry.bounds[1] # return second position\n",
    "\n",
    "# Use function to make new column\n",
    "df['miny'] = df.apply(min_y, axis=1) # to go over rows\n",
    "\n",
    "df"
   ]
  },
  {
   "cell_type": "code",
   "execution_count": null,
   "id": "0dbb0232-0806-4a92-b604-bcaa4aa4e665",
   "metadata": {},
   "outputs": [],
   "source": [
    "# select polygons\n",
    "df[df['min_y'] >= 40]\n",
    "\n",
    "# Update crs\n",
    "df = df[df['min_y'] >= 40].to_crs('EPSG:3413')\n",
    "df.plot()"
   ]
  }
 ],
 "metadata": {
  "kernelspec": {
   "display_name": "Anaconda 3 (EDS220)",
   "language": "python",
   "name": "eds220-env"
  },
  "language_info": {
   "codemirror_mode": {
    "name": "ipython",
    "version": 3
   },
   "file_extension": ".py",
   "mimetype": "text/x-python",
   "name": "python",
   "nbconvert_exporter": "python",
   "pygments_lexer": "ipython3",
   "version": "3.11.4"
  }
 },
 "nbformat": 4,
 "nbformat_minor": 5
}
