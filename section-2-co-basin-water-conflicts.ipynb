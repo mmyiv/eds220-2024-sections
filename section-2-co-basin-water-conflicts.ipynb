{
 "cells": [
  {
   "cell_type": "markdown",
   "id": "6bf4ed4c-1eb1-44be-88e9-66e490a9545d",
   "metadata": {
    "tags": []
   },
   "source": [
    "# Water conflicts in the Colorado River Basin\n",
    "\n",
    "[Link to discussion instructions](https://meds-eds-220.github.io/MEDS-eds-220-course/discussion-sections/ds-2-water-crisis-exploration.html)\n",
    "\n",
    "Date: 10/10/2024"
   ]
  },
  {
   "cell_type": "markdown",
   "id": "081f2063-f120-4b3f-97bf-69c908223b0a",
   "metadata": {},
   "source": [
    "## 1. Archive Exploration"
   ]
  },
  {
   "cell_type": "code",
   "execution_count": null,
   "id": "817e289d-59ce-430d-8bf9-a822e5bd147d",
   "metadata": {
    "tags": []
   },
   "outputs": [],
   "source": []
  },
  {
   "cell_type": "markdown",
   "id": "b4ed197d-5130-410a-8038-c24ea4c83363",
   "metadata": {},
   "source": [
    "## 2. Data Loading"
   ]
  },
  {
   "cell_type": "code",
   "execution_count": 4,
   "id": "cf668808-feed-47fe-82f0-f6b971614dee",
   "metadata": {
    "tags": []
   },
   "outputs": [],
   "source": [
    "import pandas as pd\n",
    "\n",
    "df = pd.read_csv('data/Colorado River Basin Water Conflict Table.csv')"
   ]
  },
  {
   "cell_type": "markdown",
   "id": "ea48183e-da81-483a-8007-7b84568dbe41",
   "metadata": {
    "tags": []
   },
   "source": [
    "## 3. Preliminary Data Exploration"
   ]
  }
 ],
 "metadata": {
  "kernelspec": {
   "display_name": "Anaconda 3 (Base)",
   "language": "python",
   "name": "base"
  },
  "language_info": {
   "codemirror_mode": {
    "name": "ipython",
    "version": 3
   },
   "file_extension": ".py",
   "mimetype": "text/x-python",
   "name": "python",
   "nbconvert_exporter": "python",
   "pygments_lexer": "ipython3",
   "version": "3.9.13"
  }
 },
 "nbformat": 4,
 "nbformat_minor": 5
}
